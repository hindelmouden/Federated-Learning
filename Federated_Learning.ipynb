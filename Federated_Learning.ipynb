
{
 "cells": [
  {
   "cell_type": "markdown",
   "metadata": {},
   "source": [
    "# Federated Learning appliqué aux données bancaires\n",
    "Ce notebook montre une simulation de Federated Learning à l’aide de données synthétiques inspirées du secteur bancaire (âge, revenu, score de crédit, nombre de produits, activité transactionnelle)."
   ]
  },
  {
   "cell_type": "code",
   "execution_count": null,
   "metadata": {},
   "outputs": [],
   "source": [
    "# pip install tensorflow tensorflow_federated numpy matplotlib\n",
    "import numpy as np\n",
    "import tensorflow as tf\n",
    "from tensorflow import keras\n",
    "from tensorflow.keras import layers\n",
    "import matplotlib.pyplot as plt"
   ]
  },
  {
   "cell_type": "code",
   "execution_count": null,
   "metadata": {},
   "outputs": [],
   "source": [
    "# Générer des données synthétiques\n",
    "def generate_synthetic_data():\n",
    "    n = 1000\n",
    "    np.random.seed(42)\n",
    "    age = np.random.randint(18, 71, size=n)\n",
    "    monthly_income = np.random.normal(loc=7000, scale=2000, size=n)\n",
    "    monthly_income = np.clip(monthly_income, 1000, 15000)\n",
    "    credit_score = np.random.normal(loc=600, scale=100, size=n)\n",
    "    credit_score = np.clip(credit_score, 300, 850)\n",
    "    num_products = np.random.randint(0, 6, size=n)\n",
    "    transaction_activity = np.random.poisson(lam=30, size=n)\n",
    "    X = np.stack([age, monthly_income, credit_score, num_products, transaction_activity], axis=1)\n",
    "    y = np.random.randint(0, 2, size=n)\n",
    "    return X, y"
   ]
  },
  {
   "cell_type": "code",
   "execution_count": null,
   "metadata": {},
   "outputs": [],
   "source": [
    "# Définir le modèle\n",
    "def create_model():\n",
    "    model = keras.Sequential([\n",
    "        layers.Dense(64, activation='relu', input_shape=(5,)),\n",
    "        layers.Dense(32, activation='relu'),\n",
    "        layers.Dense(1, activation='sigmoid')\n",
    "    ])\n",
    "    model.compile(optimizer='adam', loss='binary_crossentropy', metrics=['accuracy'])\n",
    "    return model"
   ]
  },
  {
   "cell_type": "code",
   "execution_count": null,
   "metadata": {},
   "outputs": [],
   "source": [
    "# Entraînement fédéré\n",
    "def federated_training(rounds=20, num_clients=5):\n",
    "    global_model = create_model()\n",
    "    history = {'loss': [], 'accuracy': []}\n",
    "    for round_num in range(rounds):\n",
    "        client_weights = []\n",
    "        for _ in range(num_clients):\n",
    "            X, y = generate_synthetic_data()\n",
    "            client_model = create_model()\n",
    "            client_model.set_weights(global_model.get_weights())\n",
    "            client_model.fit(X, y, epochs=1, batch_size=32, verbose=0)\n",
    "            client_weights.append(client_model.get_weights())\n",
    "        new_weights = np.mean(client_weights, axis=0)\n",
    "        global_model.set_weights(new_weights)\n",
    "        X_test, y_test = generate_synthetic_data()\n",
    "        loss, accuracy = global_model.evaluate(X_test, y_test, verbose=0)\n",
    "        history['loss'].append(loss)\n",
    "        history['accuracy'].append(accuracy)\n",
    "        print(f"Round {round_num + 1}, Loss: {loss:.4f}, Accuracy: {accuracy:.4f}")\n",
    "    return history"
   ]
  },
  {
   "cell_type": "code",
   "execution_count": null,
   "metadata": {},
   "outputs": [],
   "source": [
    "# Lancer l'entraînement\n",
    "history = federated_training(rounds=20, num_clients=5)"
   ]
  },
  {
   "cell_type": "code",
   "execution_count": null,
   "metadata": {},
   "outputs": [],
   "source": [
    "# Visualisation des performances\n",
    "plt.figure(figsize=(12, 5))\n",
    "plt.subplot(1, 2, 1)\n",
    "plt.plot(range(1, 21), history['loss'], marker='o', color='red')\n",
    "plt.title("Évolution de la Perte (Loss)")\n",
    "plt.xlabel("Round")\n",
    "plt.ylabel("Perte")\n",
    "plt.grid(True)\n",
    "plt.subplot(1, 2, 2)\n",
    "plt.plot(range(1, 21), history['accuracy'], marker='o', color='green')\n",
    "plt.title("Évolution de la Précision (Accuracy)")\n",
    "plt.xlabel("Round")\n",
    "plt.ylabel("Précision")\n",
    "plt.grid(True)\n",
    "plt.tight_layout()\n",
    "plt.show()"
   ]
  }
 ],
 "metadata": {
  "kernelspec": {
   "display_name": "Python 3",
   "language": "python",
   "name": "python3"
  },
  "language_info": {
   "name": "python",
   "version": ""
  }
 },
 "nbformat": 4,
 "nbformat_minor": 2
}
